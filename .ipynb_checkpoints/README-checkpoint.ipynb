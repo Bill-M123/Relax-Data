{
 "cells": [
  {
   "cell_type": "markdown",
   "metadata": {},
   "source": [
    "![](Important_Feature.png)"
   ]
  },
  {
   "cell_type": "markdown",
   "metadata": {},
   "source": [
    "# Finding Key Features - Relax Data\n",
    "\n",
    "As described, the problem has two files which must be merged and sorted to find the most important indicators of a customer adopting the ap.  The attached notebook shows the steps of cleaning the data by creating categorical variables for email domain and one hot encoding of all categorical variables.  Time delta variables which relate the length of time from account creation to last activity were developed.\n",
    "\n",
    "After analysis which included correlation analysis and simple classification development (Random Forrest and MPL) it was clear that the derived time delta features were by far the most important.  In fact, they are so effective, that the accuracy (measured by a 5 fold cross validation methodology) was 97.3%.  This result matches intuition, as it makes sense that if a user has had an account for some time and is still logging in, they are happy with the service."
   ]
  },
  {
   "cell_type": "code",
   "execution_count": null,
   "metadata": {
    "collapsed": true
   },
   "outputs": [],
   "source": []
  },
  {
   "cell_type": "code",
   "execution_count": null,
   "metadata": {
    "collapsed": true
   },
   "outputs": [],
   "source": []
  }
 ],
 "metadata": {
  "kernelspec": {
   "display_name": "Python 2",
   "language": "python",
   "name": "python2"
  },
  "language_info": {
   "codemirror_mode": {
    "name": "ipython",
    "version": 2
   },
   "file_extension": ".py",
   "mimetype": "text/x-python",
   "name": "python",
   "nbconvert_exporter": "python",
   "pygments_lexer": "ipython2",
   "version": "2.7.13"
  }
 },
 "nbformat": 4,
 "nbformat_minor": 2
}
